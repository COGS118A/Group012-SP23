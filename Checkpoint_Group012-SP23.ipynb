{
 "cells": [
  {
   "cell_type": "markdown",
   "metadata": {},
   "source": [
    "# COGS 118A - Project Checkpoint"
   ]
  },
  {
   "attachments": {},
   "cell_type": "markdown",
   "metadata": {},
   "source": [
    "# Names\n",
    "- Antara Sengupta\n",
    "- Ryan Harsono\n",
    "- Alyssa Fleschner\n",
    "- Josue Sanchez"
   ]
  },
  {
   "attachments": {},
   "cell_type": "markdown",
   "metadata": {},
   "source": [
    "# Abstract \n",
    "In this project, our goal is to build a model that can predict the stage of Alzheimer’s disease within an individual based upon MRI scan images. In the specific dataset that we are working with, there are 4 levels of severity that are presented: none, very mild, mild, and moderate. This dataset also provides us with both the original and augmented images of the scans. The MRI scans are separated into 4 sets based upon severity, and we will use a set of these images and their respective classifications to train our model, and then test our model with the images we set aside to use as our testing data. We also may use methods like cross-validation to increase accuracy, but due to the large size of our data set, we may only use a subset of the data in our model development process. Our objective is to develop an algorithm that can gauge the severity of Alzheimer’s disease within a patient using their MRI scan, and we will use our chosen database to train and test our model, and test performance and predictive accuracy through methods such as confusion matrices, AUC-ROC and others that we find fit.\n"
   ]
  },
  {
   "attachments": {},
   "cell_type": "markdown",
   "metadata": {},
   "source": [
    "# Background\n",
    "Alzheimer's disease is a neurodegenerative disorder that causes memory loss, loss of cognitive abilities and change in behavior. Magnetic Resonance Imagining (MRI’s) is an imaging technique utilized to visualize internal parts of the brain. MRI’s detect the abnormalities in the brain that are associated with diagnosing Alzheimer’s disease. With our study patients experiencing Alzheimer’s disease, their cortical thickness diminishes as well as the hippocampus breaking down which can deteriorate rapidly with age. Typically, we see this degeneration process in ages 60 and above, however, there are cases of Alzheimer’s starting in a person’s 30’s. With our dataset on Kaggle</a>[<sup>[1]</sup>](#reference_1), we aim to explore how image segmentation and advanced processing techniques can detect early onset symptoms, identify significant discrepancies through brain image processing, and monitor the progression of the disease. With our model, images of MRI scans will be trained and tested to help improve accuracy and prevent overfitting of our different stages of Alzheimer’s. We aim to determine different levels of Alzheimer's disease through image classification of MRI scans. Other models </a>[<sup>[2]</sup>](#reference_2) extract relevant features from the MRI scans with dementia patients and utilized metrics, such as, ROC-AUC to differentiate between healthy or not. Deep learning models contribute to the idea of medical analysis with image processing and can create a change in how we approach neurological diseases."
   ]
  },
  {
   "cell_type": "markdown",
   "metadata": {},
   "source": [
    "# Problem Statement\n",
    "\n",
    "Clearly describe the problem that you are solving. Avoid ambiguous words. The problem described should be well defined and should have at least one ML-relevant potential solution. Additionally, describe the problem thoroughly such that it is clear that the problem is quantifiable (the problem can be expressed in mathematical or logical terms), measurable (the problem can be measured by some metric and clearly observed), and replicable (the problem can be reproduced and occurs more than once)."
   ]
  },
  {
   "cell_type": "markdown",
   "metadata": {},
   "source": [
    "# Data\n",
    "\n",
    "UPDATED FROM PROPOSAL!\n",
    "\n",
    "You should have obtained and cleaned (if necessary) data you will use for this project.\n",
    "\n",
    "Please give the following infomration for each dataset you are using\n",
    "- link/reference to obtain it\n",
    "- description of the size of the dataset (# of variables, # of observations)\n",
    "- what an observation consists of\n",
    "- what some critical variables are, how they are represented\n",
    "- any special handling, transformations, cleaning, etc you have done should be demonstrated here!\n"
   ]
  },
  {
   "attachments": {},
   "cell_type": "markdown",
   "metadata": {},
   "source": [
    "# Proposed Solution\n",
    "\n",
    "Since our goal is to perform image classification, we will implement a variety of neural networks using the Torchvision library, which is designed for computer vision and image processing tasks. While PyTorch provides 20+ classification models, we are specifically interested in the most popular ones, which include: AlexNet EfficientNet GoogLeNet ResNet VGG These were selected from a combination of sources</a>[<sup>[2]</sup>](#reference_2)</a>[<sup>[3]</sup>](#reference_3)</a>[<sup>[4]</sup>](#reference_4). Each of the above neural networks were revolutionary in their time and have been proven to perform well when processing images. We would also like to compare their performances to a simple convolutional neural network with minimal layers. All of the models models will be implemented on the train/test splits we determine for our dataset, and their performances will be measured using a standardized loss function."
   ]
  },
  {
   "cell_type": "markdown",
   "metadata": {},
   "source": [
    "# Evaluation Metrics\n",
    "\n",
    "Propose at least one evaluation metric that can be used to quantify the performance of both the benchmark model and the solution model. The evaluation metric(s) you propose should be appropriate given the context of the data, the problem statement, and the intended solution. Describe how the evaluation metric(s) are derived and provide an example of their mathematical representations (if applicable). Complex evaluation metrics should be clearly defined and quantifiable (can be expressed in mathematical or logical terms)."
   ]
  },
  {
   "cell_type": "markdown",
   "metadata": {},
   "source": [
    "# Preliminary results\n",
    "\n",
    "NEW SECTION!\n",
    "\n",
    "Please show any preliminary results you have managed to obtain.\n",
    "\n",
    "Examples would include:\n",
    "- Analyzing the suitability of a dataset or alogrithm for prediction/solving your problem \n",
    "- Performing feature selection or hand-designing features from the raw data. Describe the features available/created and/or show the code for selection/creation\n",
    "- Showing the performance of a base model/hyper-parameter setting.  Solve the task with one \"default\" algorithm and characterize the performance level of that base model.\n",
    "- Learning curves or validation curves for a particular model\n",
    "- Tables/graphs showing the performance of different models/hyper-parameters\n",
    "\n"
   ]
  },
  {
   "cell_type": "markdown",
   "metadata": {},
   "source": [
    "# Ethics & Privacy"
   ]
  },
  {
   "attachments": {},
   "cell_type": "markdown",
   "metadata": {},
   "source": [
    "In our dataset, we may have ethical concerns of patient confidentiality because we are analyzing patients with Alzheimer. These datasets can be collected from Kaggle, however, the images included are mainly MRI and will not reveal any personal information on the patients. All data will minimize any potentially harmful consequences and only be utilized to help predict results/analysis. While we are aware that we are dealing with sensitive data in this project, such as medical images and scans, we are solely using data that is readily available to the public on a site like Kaggle, and opted to not use data from specific medical/neurological research sites that warranted request applications in order to access some of their datasets. These measures taken by us will prevent a multitude of ethical violations, along with the fact that there is no patient identification information provided along with the dataset and the images. For the duration of this project, we will continue to be mindful of ethics and privacy with each step we take."
   ]
  },
  {
   "cell_type": "markdown",
   "metadata": {},
   "source": [
    "# Team Expectations "
   ]
  },
  {
   "attachments": {},
   "cell_type": "markdown",
   "metadata": {},
   "source": [
    "- Everybody completes their assigned parts\n",
    "- Everyone should show up to planned group meetings unless discussed otherwise\n",
    "- Group members are respectful of each other\n",
    "- Allow everyone to have the freedom of sharing their ideas\n",
    "- Contribution from all members are equal"
   ]
  },
  {
   "cell_type": "markdown",
   "metadata": {},
   "source": [
    "# Project Timeline Proposal"
   ]
  },
  {
   "attachments": {},
   "cell_type": "markdown",
   "metadata": {},
   "source": [
    "UPDATE THE PROPOSAL TIMELINE ACCORDING TO WHAT HAS ACTUALLY HAPPENED AND HOW IT HAS EFFECTED YOUR FUTURE PLANS\n",
    "\n",
    "| Meeting Date  | Meeting Time| Completed Before Meeting  | Discuss at Meeting |\n",
    "|---|---|---|---|\n",
    "| 5/16  |  1 PM |  Brainstorm topics| \tComplete the project proposal|\n",
    "| 5/30  |  12 PM |  Begin checkpoint | Finalize feature extractions | \n",
    "| 5/31  | 12 PM  | Edit, finalize, and propose a solution  | turn in checkpoint|\n",
    "| 6/2  | 12 PM  | Import & Wrangle Data ,do some EDA | Review/Edit wrangling/EDA; Discuss Analysis Plan   |\n",
    "| 6/7  | 12 PM  | Finalize wrangling/EDA | Discuss/edit project code |\n",
    "| 6/10  | 12 PM  | Draft results/conclusion/discussion | Discuss full project |\n",
    "| 6/14  | Before 11:59 PM  | Finialize Final Project | Turn in Final Project  |"
   ]
  },
  {
   "attachments": {},
   "cell_type": "markdown",
   "metadata": {},
   "source": [
    "# Footnotes\n",
    "\n",
    "\n",
    "\n",
    "<a name=\"reference_1\"></a>1.[^](#Uraninjo):\"Augmented Alzheimer MRI Dataset.\" Kaggle, 2021: https://www.kaggle.com/datasets/uraninjo/augmented-alzheimer-mri-dataset%3E<br>\n",
    "\n",
    "<a name=\"reference_2\"></a>2.[^](#ScienceDirect):\"A machine learning approach for the detection of dementia based on MRI scans\",Science Direct, 2018:https://www.sciencedirect.com/science/article/pii/S0939388918301181%3E\n",
    "\n",
    "<a name=\"reference_3\"></a>3.[^](#DebuggerCafe): \"Brain MRI Classification using PyTorch EfficientNet-B0\", Debugger Cafe: https://debuggercafe.com/brain-mri-classification-using-pytorch-efficientnetb0/%3E\n",
    "\n",
    "<a name=\"reference_4\"></a>4.[^](#PyImage):\"PyTorch Image Classification with Pre-trained Networks\", PyImageSearch: https://pyimagesearch.com/2021/07/26/pytorch-image-classification-with-pre-trained-networks/%3E"
   ]
  },
  {
   "cell_type": "code",
   "execution_count": null,
   "metadata": {},
   "outputs": [],
   "source": []
  }
 ],
 "metadata": {
  "kernelspec": {
   "display_name": "Python 3",
   "language": "python",
   "name": "python3"
  },
  "language_info": {
   "codemirror_mode": {
    "name": "ipython",
    "version": 3
   },
   "file_extension": ".py",
   "mimetype": "text/x-python",
   "name": "python",
   "nbconvert_exporter": "python",
   "pygments_lexer": "ipython3",
   "version": "3.8.8"
  }
 },
 "nbformat": 4,
 "nbformat_minor": 2
}
