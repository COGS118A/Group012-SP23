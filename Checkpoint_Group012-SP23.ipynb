{
 "cells": [
  {
   "cell_type": "markdown",
   "metadata": {},
   "source": [
    "# COGS 118A - Project Checkpoint"
   ]
  },
  {
   "cell_type": "markdown",
   "metadata": {},
   "source": [
    "# Names\n",
    "- Antara Sengupta\n",
    "- Ryan Harsono\n",
    "- Alyssa Fleschner\n",
    "- Josue Sanchez"
   ]
  },
  {
   "cell_type": "markdown",
   "metadata": {},
   "source": [
    "# Abstract \n",
    "In this project, our goal is to build a model that can predict the stage of Alzheimer’s disease within an individual based upon MRI scan images. In the specific dataset that we are working with, there are 4 levels of severity that are presented: none, very mild, mild, and moderate. This dataset also provides us with both the original and augmented images of the scans. The MRI scans are separated into 4 sets based upon severity, and we will use a set of these images and their respective classifications to train our model, and then test our model with the images we set aside to use as our testing data. We also may use methods like cross-validation to increase accuracy, but due to the large size of our data set, we may only use a subset of the data in our model development process. Our objective is to develop an algorithm that can gauge the severity of Alzheimer’s disease within a patient using their MRI scan, and we will use our chosen database to train and test our model, and test performance and predictive accuracy through methods such as confusion matrices, AUC-ROC and others that we find fit.\n"
   ]
  },
  {
   "cell_type": "markdown",
   "metadata": {},
   "source": [
    "# Background\n",
    "Alzheimer's disease is a neurodegenerative disorder that causes memory loss, loss of cognitive abilities and change in behavior. Magnetic Resonance Imagining (MRI’s) is an imaging technique utilized to visualize internal parts of the brain. MRI’s detect the abnormalities in the brain that are associated with diagnosing Alzheimer’s disease. With our study patients experiencing Alzheimer’s disease, their cortical thickness diminishes as well as the hippocampus breaking down which can deteriorate rapidly with age. Typically, we see this degeneration process in ages 60 and above, however, there are cases of Alzheimer’s starting in a person’s 30’s. With our dataset on Kaggle</a>[<sup>[1]</sup>](#reference_1), we aim to explore how image segmentation and advanced processing techniques can detect early onset symptoms, identify significant discrepancies through brain image processing, and monitor the progression of the disease. With our model, images of MRI scans will be trained and tested to help improve accuracy and prevent overfitting of our different stages of Alzheimer’s. We aim to determine different levels of Alzheimer's disease through image classification of MRI scans. Other models </a>[<sup>[2]</sup>](#reference_2) extract relevant features from the MRI scans with dementia patients and utilized metrics, such as, ROC-AUC to differentiate between healthy or not. Deep learning models contribute to the idea of medical analysis with image processing and can create a change in how we approach neurological diseases. Our study aims to utilize deep learning models with advanced image processing in order to detect early onset symptoms of Alzheimer's. In efforts to improve medical image analysis and lead to a better diagnosis plus identifying where patients need help. "
   ]
  },
  {
   "cell_type": "markdown",
   "metadata": {},
   "source": [
    "# Problem Statement\n",
    "The problem that we will be tackling in the duration of this project is the determination and diagnosis of levels of Alzheimer’s disease within patients by using image classification of their MRI scans. Our objective is to develop a model that will be able to identify whether a given individual has none, very mild, mild or moderate levels of dementia based upon their MRI scan. We will use image data from our chosen database to train and test our model. Some of the metrics and techniques we may use in our model development are feature extraction and feature engineering, KNN and decision tree algorithms to assist us with classification tasks, and cross-validation, ROC-AUC and correlation matrices to analyze the accuracy and predictive validity of our model. In the feature engineering process, we may opt for methods such as PCA to create feature vectors which we could then proceed to use other techniques on to propel our classification algorithm. In this project, we are dealing explicitly with classifying images based on four specific classifications: (1) none, (2) very mild, (3) mild, and (4) moderate. We will not be dealing with any subjectivity in diagnosis or any gray area that lies outside of these four specific classifications that have been provided to us by our dataset. The dataset we have chosen is extremely large, having over forty-thousand images, and although we may not use all the data for this project in the sake of efficiency, time and complexity, we will still have a very large dataset to work with which inherently has benefits in aspects such as reproducibility. By having our project focus on classifying images into four specific categories, we ensure the quantifiable nature of our problem, while also establishing the measurability by utilizing various techniques and metrics to approach our problem that has been taught to us throughout the quarter."
   ]
  },
  {
   "cell_type": "markdown",
   "metadata": {},
   "source": [
    "# Data\n",
    "\n",
    "https://www.kaggle.com/datasets/uraninjo/augmented-alzheimer-mri-dataset\n",
    "\n",
    "- 33984 rows × 2 columns is the size of the dataset, 2 variables, 33984 observations\n",
    "- The observation consist of two variables 1 being the image, and the 2nd being the label\n",
    "- The critical variable would be the second column as it is the labels we will need to predict and train our data with supervised learning\n",
    "\n",
    "\n",
    "\n",
    "- any special handling, transformations, cleaning, etc you have done should be demonstrated here!\n"
   ]
  },
  {
   "cell_type": "markdown",
   "metadata": {},
   "source": [
    "![Alzheimer-Class Model V1](Alzheimer-Class_Model_V1/alzheimer-classification-2-1.png)"
   ]
  },
  {
   "cell_type": "markdown",
   "metadata": {},
   "source": [
    "# Proposed Solution\n",
    "\n",
    "Since our goal is to perform image classification, we will implement a variety of neural networks using the libraries that can be found with python, which is designed for computer vision and image processing tasks. While libraries provides many classification models, we are specifically interested in the most popular ones, which include: TensorFlow Sequential EfficientNet GoogLeNet ResNet VGG These were selected from a combination of sources</a>[<sup>[2]</sup>](#reference_2)</a>[<sup>[3]</sup>](#reference_3)</a>[<sup>[4]</sup>](#reference_4). Each of the above neural networks were revolutionary in their time and have been proven to perform well when processing images. We would also like to compare their performances to a simple convolutional neural network with minimal layers. All of the models models will be implemented on the train/test splits we determine for our dataset, and their performances will be measured using a standardized loss function."
   ]
  },
  {
   "cell_type": "markdown",
   "metadata": {},
   "source": [
    "# Evaluation Metrics\n",
    "To measure the accuracy of our models, we plan to simply compare the predicted labels and the actual labels of our classifications. We then plan to produce accuracy percentages for each of the four classes in our dataset. Additionally, we plan to compare the losses of each model using cross entropy loss, a common neural network metric that measures the performance of classification models. The ideal model would have high accuracy and low loss."
   ]
  },
  {
   "cell_type": "markdown",
   "metadata": {},
   "source": [
    "# Preliminary results\n",
    "\n",
    "NEW SECTION!\n",
    "\n",
    "Please show any preliminary results you have managed to obtain.\n",
    "\n",
    "Examples would include:\n",
    "- Analyzing the suitability of a dataset or alogrithm for prediction/solving your problem \n",
    "- Performing feature selection or hand-designing features from the raw data. Describe the features available/created and/or show the code for selection/creation\n",
    "- Showing the performance of a base model/hyper-parameter setting.  Solve the task with one \"default\" algorithm and characterize the performance level of that base model.\n",
    "- Learning curves or validation curves for a particular model\n",
    "- Tables/graphs showing the performance of different models/hyper-parameters\n"
   ]
  },
  {
   "cell_type": "markdown",
   "metadata": {},
   "source": [
    "![Alzheimer-Class Model V1](Alzheimer-Class_Model_V1/alzheimer-classification-2-2.png)\n",
    "![Alzheimer-Class Model V1](Alzheimer-Class_Model_V1/alzheimer-classification-2-3.png)\n",
    "![Alzheimer-Class Model V1](Alzheimer-Class_Model_V1/alzheimer-classification-2-4.png)\n",
    "![Alzheimer-Class Model V1](Alzheimer-Class_Model_V1/alzheimer-classification-2-5.png)\n",
    "![Alzheimer-Class Model V1](Alzheimer-Class_Model_V1/alzheimer-classification-2-6.png)\n",
    "\n",
    "As it currently is we have only used a small epoch but going foward we will classify different epochs and batch size to compare the difference. This is only preliminary results so we wanted to find out how to get a model and build from there."
   ]
  },
  {
   "cell_type": "markdown",
   "metadata": {},
   "source": [
    "# Ethics & Privacy"
   ]
  },
  {
   "cell_type": "markdown",
   "metadata": {},
   "source": [
    "\n",
    "In our dataset, we may have ethical concerns of patient confidentiality because we are analyzing patients with Alzheimer. These datasets can be collected from Kaggle, however, the images included are mainly MRI and will not reveal any personal information on the patients. All data will minimize any potentially harmful consequences and only be utilized to help predict results/analysis. While we are aware that we are dealing with sensitive data in this project, such as medical images and scans, we are solely using data that is readily available to the public on a site like Kaggle, and opted to not use data from specific medical/neurological research sites that warranted request applications in order to access some of their datasets. These measures taken by us will prevent a multitude of ethical violations, along with the fact that there is no patient identification information provided along with the dataset and the images. For the duration of this project, we will continue to be mindful of ethics and privacy with each step we take."
   ]
  },
  {
   "cell_type": "markdown",
   "metadata": {},
   "source": [
    "# Team Expectations "
   ]
  },
  {
   "cell_type": "markdown",
   "metadata": {},
   "source": [
    "- Everybody completes their assigned parts\n",
    "- Everyone should show up to planned group meetings unless discussed otherwise\n",
    "- Group members are respectful of each other\n",
    "- Allow everyone to have the freedom of sharing their ideas\n",
    "- Contribution from all members are equal"
   ]
  },
  {
   "cell_type": "markdown",
   "metadata": {},
   "source": [
    "# Project Timeline Proposal"
   ]
  },
  {
   "cell_type": "markdown",
   "metadata": {},
   "source": [
    "UPDATE THE PROPOSAL TIMELINE ACCORDING TO WHAT HAS ACTUALLY HAPPENED AND HOW IT HAS EFFECTED YOUR FUTURE PLANS\n",
    "\n",
    "| Meeting Date  | Meeting Time| Completed Before Meeting  | Discuss at Meeting |\n",
    "|---|---|---|---|\n",
    "| 5/16  |  1 PM |  Brainstorm topics| \tComplete the project proposal|\n",
    "| 5/30  |  12 PM |  Begin checkpoint | Finalize feature extractions | \n",
    "| 5/31  | 12 PM  | Edit, finalize, and propose a solution  | turn in checkpoint|\n",
    "| 6/2  | 12 PM  | Import & Wrangle Data ,do some EDA | Review/Edit wrangling/EDA; Discuss Analysis Plan   |\n",
    "| 6/7  | 12 PM  | Finalize wrangling/EDA | Discuss/edit project code |\n",
    "| 6/10  | 12 PM  | Draft results/conclusion/discussion | Discuss full project |\n",
    "| 6/14  | Before 11:59 PM  | Finialize Final Project | Turn in Final Project  |"
   ]
  },
  {
   "cell_type": "markdown",
   "metadata": {},
   "source": [
    "# Footnotes\n",
    "\n",
    "\n",
    "\n",
    "<a name=\"reference_1\"></a>1.[^](#Uraninjo):\"Augmented Alzheimer MRI Dataset.\" Kaggle, 2021: https://www.kaggle.com/datasets/uraninjo/augmented-alzheimer-mri-dataset%3E<br>\n",
    "\n",
    "<a name=\"reference_2\"></a>2.[^](#ScienceDirect):\"A machine learning approach for the detection of dementia based on MRI scans\",Science Direct, 2018:https://www.sciencedirect.com/science/article/pii/S0939388918301181%3E\n",
    "\n",
    "<a name=\"reference_3\"></a>3.[^](#DebuggerCafe): \"Brain MRI Classification using PyTorch EfficientNet-B0\", Debugger Cafe: https://debuggercafe.com/brain-mri-classification-using-pytorch-efficientnetb0/%3E\n",
    "\n",
    "<a name=\"reference_4\"></a>4.[^](#PyImage):\"PyTorch Image Classification with Pre-trained Networks\", PyImageSearch: https://pyimagesearch.com/2021/07/26/pytorch-image-classification-with-pre-trained-networks/%3E"
   ]
  }
 ],
 "metadata": {
  "kernelspec": {
   "display_name": "Python 3 (ipykernel)",
   "language": "python",
   "name": "python3"
  },
  "language_info": {
   "codemirror_mode": {
    "name": "ipython",
    "version": 3
   },
   "file_extension": ".py",
   "mimetype": "text/x-python",
   "name": "python",
   "nbconvert_exporter": "python",
   "pygments_lexer": "ipython3",
   "version": "3.10.9"
  },
  "vscode": {
   "interpreter": {
    "hash": "aee8b7b246df8f9039afb4144a1f6fd8d2ca17a180786b69acc140d282b71a49"
   }
  }
 },
 "nbformat": 4,
 "nbformat_minor": 2
}
