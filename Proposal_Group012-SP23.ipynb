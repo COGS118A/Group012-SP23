{
 "cells": [
  {
   "cell_type": "markdown",
   "metadata": {},
   "source": [
    "# COGS 118A- Project Proposal"
   ]
  },
  {
   "attachments": {},
   "cell_type": "markdown",
   "metadata": {},
   "source": [
    "# Project Description\n",
    "\n",
    "You will design and execute a machine learning project. There are a few constraints on the nature of the allowed project. \n",
    "- The problem addressed will not be a \"toy problem\" or \"common training students problem\" like mtcars, iris, palmer penguins etc.\n",
    "- The dataset will have >1k observations and >5 variables. I'd prefer more like >10k observations and >10 variables. A general rule is that if you have >100x more observations than variables, your solution will likely generalize a lot better. The goal of training a supervised machine learning model is to learn the underlying pattern in a dataset in order to generalize well to unseen data, so choosing a large dataset is very important.\n",
    "\n",
    "- The project will include a model selection and/or feature selection component where you will be looking for the best setup to maximize the performance of your ML system.\n",
    "- You will evaluate the performance of your ML system using more than one appropriate metric\n",
    "- You will be writing a report describing and discussing these accomplishments\n",
    "\n"
   ]
  },
  {
   "cell_type": "markdown",
   "metadata": {},
   "source": [
    "### Peer Review\n",
    "\n",
    "You will all have an opportunity to look at the Project Proposals of other groups to fuel your creativity and get more ideas for how you can improve your own projects. \n",
    "\n",
    "Both the project proposal and project checkpoint will have peer review."
   ]
  },
  {
   "attachments": {},
   "cell_type": "markdown",
   "metadata": {},
   "source": [
    "# Names\n",
    "\n",
    "Hopefully your team is at least this good. Obviously you should replace these with your names.\n",
    "- Antara Sengupta\n",
    "- Ryan Harsono\n",
    "- Alyssa Fleschner\n",
    "- Josue Sanchez"
   ]
  },
  {
   "attachments": {},
   "cell_type": "markdown",
   "metadata": {},
   "source": [
    "# Abstract "
   ]
  },
  {
   "attachments": {},
   "cell_type": "markdown",
   "metadata": {},
   "source": [
    "In this project, our goal is to build a model that can predict the stage of Alzheimer’s disease within an individual based upon MRI scan images. In the specific dataset that we are working with, there are 4 levels of severity that are presented: none, very mild, mild, and moderate. This dataset also provides us with both the original and augmented images of the scans. The MRI scans are separated into 4 sets based upon severity, and we will use a set of these images and their respective classifications to train our model, and then test our model with the images we set aside to use as our testing data. We also may use methods like cross-validation to increase accuracy, but due to the large size of our data set, we may only use a subset of the data in our model development process. Our objective is to develop an algorithm that can gauge the severity of Alzheimer’s disease within a patient using their MRI scan, and we will use our chosen database to train and test our model, and test performance and predictive accuracy through methods such as confusion matrices, AUC-ROC and others that we find fit."
   ]
  },
  {
   "attachments": {},
   "cell_type": "markdown",
   "metadata": {},
   "source": [
    "# Background\n",
    "\n",
    "Alzheimer's disease is a neurodegenerative disorder that causes memory loss, loss of cognitive abilities and change in behavior. Magnetic Resonance Imagining (MRI’s) is an imaging technique utilized to visualize internal parts of the brain. MRI’s detect the abnormalities in the brain that are associated with diagnosing Alzheimer’s disease. With our study patients experiencing Alzheimer’s disease, their cortical thickness diminishes as well as the hippocampus breaking down which can deteriorate rapidly with age. Typically, we see this degeneration process in ages 60 and above, however, there are cases of Alzheimer’s starting in a person’s 30’s. With our dataset on Kaggle</a>[<sup>[1]</sup>](#reference_1), we aim to explore how image segmentation and advanced processing techniques can detect early onset symptoms, identify significant discrepancies through brain image processing, and monitor the progression of the disease. With our model, images of MRI scans will be trained and tested to help improve accuracy and prevent overfitting of our different stages of Alzheimer’s. We aim to determine different levels of Alzheimer's disease through image classification of MRI scans. Other models </a>[<sup>[2]</sup>](#reference_2) extract relevant features from the MRI scans with dementia patients and utilized metrics, such as, ROC-AUC to differentiate between healthy or not. Deep learning models contribute to the idea of medical analysis with image processing.\n",
    "\n",
    "\n",
    "\n"
   ]
  },
  {
   "attachments": {},
   "cell_type": "markdown",
   "metadata": {},
   "source": [
    "# Problem Statement\n",
    "\n",
    "The problem that we will be tackling in the duration of this project is the determination and diagnosis of levels of Alzheimer’s disease within patients by using image classification of their MRI scans. Our objective is to develop a model that will be able to identify whether a given individual has none, very mild, mild or moderate levels of dementia based upon their MRI scan. We will use image data from our chosen database to train and test our model. Some of the metrics and techniques we may use in our model development are feature extraction and feature engineering, KNN and decision tree algorithms to assist us with classification tasks, and cross-validation, ROC-AUC and correlation matrices to analyze the accuracy and predictive validity of our model. In the feature engineering process, we may opt for methods such as PCA to create feature vectors which we could then proceed to use other techniques on to propel our classification algorithm. In this project, we are dealing explicitly with classifying images based on four specific classifications: (1) none, (2) very mild, (3) mild, and (4) moderate. We will not be dealing with any subjectivity in diagnosis or any gray area that lies outside of these four specific classifications that have been provided to us by our dataset. The dataset we have chosen is extremely large, having over forty-thousand images, and although we may not use all the data for this project in the sake of efficiency, time and complexity, we will still have a very large dataset to work with which inherently has benefits in aspects such as reproducibility. By having our project focus on classifying images into four specific categories, we ensure the quantifiable nature of our problem, while also establishing the measurability by utilizing various techniques and metrics to approach our problem that has been taught to us throughout the quarter."
   ]
  },
  {
   "attachments": {},
   "cell_type": "markdown",
   "metadata": {},
   "source": [
    "# Data\n",
    "\n",
    "https://www.kaggle.com/datasets/uraninjo/augmented-alzheimer-mri-dataset\n",
    "- 33984 rows × 2 columns is the size of the dataset, 2 variables, 33984 observations\n",
    "- The observation consist of two variables 1 being the image, and the 2nd being the label\n",
    "- The critical variable would be the second column as it is the labels we will need to predict and train our data with supervised learning\n",
    "No, most of the data has been cleaned and wrangled. Unless under the recommendation of the TA’s or Peer Review to add more data, then we will add more variables. Possibly could\n"
   ]
  },
  {
   "attachments": {},
   "cell_type": "markdown",
   "metadata": {},
   "source": [
    "# Proposed Solution\n",
    "\n",
    "Since our goal is to perform image classification, we will implement a variety of neural networks using the Torchvision library, which is designed for computer vision and image processing tasks. While PyTorch provides 20+ classification models, we are specifically interested in the most popular ones, which include:\n",
    "AlexNet\n",
    "EfficientNet\n",
    "GoogLeNet\n",
    "ResNet\n",
    "VGG\n",
    "These were selected from a combination of sources[2][3][4]. Each of the above neural networks were revolutionary in their time and have been proven to perform well when processing images. We would also like to compare their performances to a simple convolutional neural network with minimal layers. All of the models models will be implemented on the train/test splits we determine for our dataset, and their performances will be measured using a standardized loss function. \n"
   ]
  },
  {
   "attachments": {},
   "cell_type": "markdown",
   "metadata": {},
   "source": [
    "# Evaluation Metrics\n",
    "\n",
    "To measure the accuracy of our models, we plan to simply compare the predicted labels and the actual labels of our classifications. We then plan to produce accuracy percentages for each of the four classes in our dataset. Additionally, we plan to compare the losses of each model using cross entropy loss, a common neural network metric that measures the performance of classification models. The ideal model would have high accuracy and low loss. \n"
   ]
  },
  {
   "cell_type": "markdown",
   "metadata": {},
   "source": [
    "# Ethics & Privacy"
   ]
  },
  {
   "attachments": {},
   "cell_type": "markdown",
   "metadata": {},
   "source": [
    "In our dataset, we may have ethical concerns of patient confidentiality because we are analyzing patients with Alzheimer. These datasets can be collected from Kaggle, however, the images included are mainly MRI and will not reveal any personal information on the patients. All data will minimize any potentially harmful consequences and only be utilized to help predict results/analysis. While we are aware that we are dealing with sensitive data in this project, such as medical images and scans, we are solely using data that is readily available to the public on a site like Kaggle, and opted to not use data from specific medical/neurological research sites that warranted request applications in order to access some of their datasets. These measures taken by us will prevent a multitude of ethical violations, along with the fact that there is no patient identification information provided along with the dataset and the images. For the duration of this project, we will continue to be mindful of ethics and privacy with each step we take. \n"
   ]
  },
  {
   "cell_type": "markdown",
   "metadata": {},
   "source": [
    "# Team Expectations "
   ]
  },
  {
   "attachments": {},
   "cell_type": "markdown",
   "metadata": {},
   "source": [
    "- Everybody completes their assigned parts \n",
    "- Everyone should show up to planned group meetings unless discussed otherwise\n",
    "- Group members are respectful of each other \n",
    "- Allow everyone to have the freedom of sharing their ideas \n",
    "- Contribution from all members are equal\n"
   ]
  },
  {
   "cell_type": "markdown",
   "metadata": {},
   "source": [
    "# Project Timeline Proposal"
   ]
  },
  {
   "attachments": {},
   "cell_type": "markdown",
   "metadata": {},
   "source": [
    "\n",
    "| Meeting Date  | Meeting Time| Completed Before Meeting  | Discuss at Meeting |\n",
    "|---|---|---|---|\n",
    "| 5/16  |  3:30 PM |  Brainstorm topics | Complete the project proposal | \n",
    "| 5/19  |  12 PM | Determine roles | Find more information on topic \n",
    "| 5/24  | 12 PM  | Start checkpoint | Work together on editing|\n",
    "| 6/1 | 6 PM  | Wrangle data | initializing analysis plan |\n",
    "| 6/5  | 12 PM  | Finalize wrangling/EDA; Begin programming for project | Discuss/edit project code; Complete project |\n",
    "| 6/10  | 12 PM  | Complete analysis; Draft results/conclusion/discussion | Edit full project |\n",
    "| 6/14  | Before 11:59 PM  | Turn in Final Project  |"
   ]
  },
  {
   "attachments": {},
   "cell_type": "markdown",
   "metadata": {},
   "source": [
    "# Footnotes\n",
    "    <a name=\\\"reference_2\\\"></a>1.[^](#ref_1): Uraninjo. \"Augmented Alzheimer MRI Dataset.\" Kaggle, 2021: https://www.kaggle.com/datasets/uraninjo/augmented-alzheimer-mri-dataset> \n",
    "    \n",
    "    <a name=\\\"ref_2\\\"></a>[<sup>[2]</sup>](#reference_2):\"A machine learning approach for the detection of dementia based on MRI scans\",Science Direct, 2018:https://www.sciencedirect.com/science/article/pii/S0939388918301181>\n",
    "\n",
    "    <a name=\\\"ref_3\\\"></a>[<sup>[3]</sup>](#reference_3): \"Brain MRI Classification using PyTorch EfficientNet-B0\", Debugger Cafe: https://debuggercafe.com/brain-mri-classification-using-pytorch-efficientnetb0/\n",
    "\n",
    "    <a name=\\\"ref_4\\\"></a>[<sup>[4]</sup>](#reference_4):\"PyTorch Image Classification with Pre-trained Networks\", PyImageSearch: https://pyimagesearch.com/2021/07/26/pytorch-image-classification-with-pre-trained-networks/"
   ]
  },
  {
   "cell_type": "code",
   "execution_count": null,
   "metadata": {},
   "outputs": [],
   "source": []
  },
  {
   "cell_type": "code",
   "execution_count": null,
   "metadata": {},
   "outputs": [],
   "source": []
  }
 ],
 "metadata": {
  "kernelspec": {
   "display_name": "Python 3",
   "language": "python",
   "name": "python3"
  },
  "language_info": {
   "codemirror_mode": {
    "name": "ipython",
    "version": 3
   },
   "file_extension": ".py",
   "mimetype": "text/x-python",
   "name": "python",
   "nbconvert_exporter": "python",
   "pygments_lexer": "ipython3",
   "version": "3.8.8"
  }
 },
 "nbformat": 4,
 "nbformat_minor": 2
}
